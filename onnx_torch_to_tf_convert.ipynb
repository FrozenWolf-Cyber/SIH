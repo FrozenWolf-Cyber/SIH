{
 "cells": [
  {
   "cell_type": "code",
   "execution_count": 1,
   "metadata": {},
   "outputs": [],
   "source": [
    "import os\n",
    "import torch\n",
    "from torchvision.transforms import transforms as T\n",
    "from seesawfacenet_pytorch.src.seesaw_models import seesaw_shareFaceNet, seesaw_shuffleFaceNet, DW_seesawFaceNetv2\n",
    "from PIL import Image\n",
    "import cv2\n",
    "import numpy as np\n",
    "import torch.nn as nn\n",
    "import onnx\n",
    "from onnx_tf.backend import prepare\n",
    "from torch.autograd import Variable\n",
    "import tensorflow as tf\n"
   ]
  },
  {
   "cell_type": "code",
   "execution_count": 4,
   "metadata": {},
   "outputs": [
    {
     "name": "stdout",
     "output_type": "stream",
     "text": [
      "seesaw_shuffleFaceNet_160\n",
      "seesaw_shuffleFaceNet_192\n",
      "seesaw_shareFaceNet_160\n",
      "DW_seesawFaceNetv2\n"
     ]
    }
   ],
   "source": [
    "class CustomNet(nn.Module):\n",
    "    def __init__(self, model):\n",
    "        super(CustomNet, self).__init__()\n",
    "        self.pre_process = T.Compose([T.Normalize([0.5, 0.5, 0.5], [0.5, 0.5, 0.5])])\n",
    "        self.backbone = model\n",
    "\n",
    "    def forward(self,x):\n",
    "        x = self.pre_process(x)\n",
    "        return self.backbone(x)\n",
    "\n",
    "def get_seesawnet_model(model, saved_dict):\n",
    "    # saved_dict = torch.load(\"saved_models/Seesaw-shuffleFaceNet_160bs/save/model_2019-06-22-17-20_accuracy_0.9184285714285714_step_568064_final.pth\", map_location=\"cuda\")\n",
    "    saved_dict = {v[7:]:k for v,k in saved_dict.items()}\n",
    "    model.load_state_dict(saved_dict)\n",
    "    model = model.cpu()\n",
    "    model.eval()\n",
    "\n",
    "    seesawnet_model = CustomNet(model)\n",
    "    seesawnet_model.eval()\n",
    "\n",
    "    img = Image.open(\"img.jpg\")\n",
    "    img = torch.FloatTensor(cv2.resize(np.asarray(img), (112, 112))).permute(2,0,1)\n",
    "    img = img/255.\n",
    "    img = img.unsqueeze(0)\n",
    "    out = model(img)\n",
    "\n",
    "    return seesawnet_model\n",
    "\n",
    "reimplement_model_seesawnet = CustomNet(torch.jit.load(\"saved_models/Seesaw_shuffleFaceNet.pt\", map_location=\"cpu\")).cpu().eval()\n",
    "\n",
    "models_configs = [\n",
    "                 (\"seesaw_shuffleFaceNet_160\", seesaw_shuffleFaceNet.seesaw_shuffleFaceNet(512), \"saved_models/Seesaw-shuffleFaceNet_160bs/save/model_2019-06-22-17-20_accuracy_0.9184285714285714_step_568064_final.pth\"),\n",
    "                 (\"seesaw_shuffleFaceNet_192\", seesaw_shuffleFaceNet.seesaw_shuffleFaceNet(512), \"saved_models/Seesaw-shuffleFaceNet_192bs/save/model_2019-06-14-06-06_accuracy_0.9269999999999999_step_475328_final.pth\"),\n",
    "                 (\"seesaw_shareFaceNet_160\", seesaw_shareFaceNet.seesaw_shareFaceNet(512), \"saved_models/Seesaw-shareFaceNet_160bs/save/model_2019-06-19-04-38_accuracy_0.9298571428571428_step_568064_final.pth\"),\n",
    "                 (\"DW_seesawFaceNetv2\", DW_seesawFaceNetv2.DW_seesawFaceNetv2(512), \"saved_models/DW-SeesawFaceNetv2_128bs/save/model_2019-08-03-07-50_accuracy_0.9486000000000001_step_727840_final.pth\")\n",
    "]\n",
    "\n",
    "\n",
    "\n",
    "for name,model,saved_dict_path in models_configs:\n",
    "    print(name)\n",
    "    if saved_dict_path == None:\n",
    "        model = model\n",
    "\n",
    "    else:\n",
    "        model = get_seesawnet_model(model, torch.load(saved_dict_path))\n",
    "\n",
    "    model = model.cpu()\n",
    "    model.eval()\n"
   ]
  },
  {
   "cell_type": "code",
   "execution_count": 9,
   "metadata": {},
   "outputs": [
    {
     "name": "stdout",
     "output_type": "stream",
     "text": [
      "seesaw_shuffleFaceNet_160\n"
     ]
    },
    {
     "name": "stderr",
     "output_type": "stream",
     "text": [
      "c:\\Users\\Gokul adethya\\Desktop\\SIH\\SIH_dl_models\\seesawfacenet_pytorch\\src\\seesaw_models\\seesaw_shuffleFaceNet.py:230: UserWarning: __floordiv__ is deprecated, and its behavior will change in a future version of pytorch. It currently rounds toward 0 (like the 'trunc' function NOT 'floor'). This results in incorrect rounding for negative values. To keep the current behavior, use torch.div(a, b, rounding_mode='trunc'), or for actual floor division, use torch.div(a, b, rounding_mode='floor').\n",
      "  x1 = x[:, :(x.shape[1]//4), :, :]\n",
      "c:\\Users\\Gokul adethya\\Desktop\\SIH\\SIH_dl_models\\seesawfacenet_pytorch\\src\\seesaw_models\\seesaw_shuffleFaceNet.py:231: UserWarning: __floordiv__ is deprecated, and its behavior will change in a future version of pytorch. It currently rounds toward 0 (like the 'trunc' function NOT 'floor'). This results in incorrect rounding for negative values. To keep the current behavior, use torch.div(a, b, rounding_mode='trunc'), or for actual floor division, use torch.div(a, b, rounding_mode='floor').\n",
      "  x2 = x[:, (x.shape[1]//4):, :, :]\n",
      "c:\\Users\\Gokul adethya\\Desktop\\SIH\\SIH_dl_models\\seesawfacenet_pytorch\\src\\seesaw_models\\seesaw_shuffleFaceNet.py:186: UserWarning: __floordiv__ is deprecated, and its behavior will change in a future version of pytorch. It currently rounds toward 0 (like the 'trunc' function NOT 'floor'). This results in incorrect rounding for negative values. To keep the current behavior, use torch.div(a, b, rounding_mode='trunc'), or for actual floor division, use torch.div(a, b, rounding_mode='floor').\n",
      "  output = input.view(n, G, c // G, h, w).permute(0, 2, 1, 3, 4).contiguous().view(n, c, h, w)\n",
      "c:\\Users\\Gokul adethya\\Desktop\\SIH\\SIH_dl_models\\seesawfacenet_pytorch\\src\\seesaw_models\\seesaw_shuffleFaceNet.py:239: UserWarning: __floordiv__ is deprecated, and its behavior will change in a future version of pytorch. It currently rounds toward 0 (like the 'trunc' function NOT 'floor'). This results in incorrect rounding for negative values. To keep the current behavior, use torch.div(a, b, rounding_mode='trunc'), or for actual floor division, use torch.div(a, b, rounding_mode='floor').\n",
      "  x1 = x[:, :(x.shape[1]//4), :, :]\n",
      "c:\\Users\\Gokul adethya\\Desktop\\SIH\\SIH_dl_models\\seesawfacenet_pytorch\\src\\seesaw_models\\seesaw_shuffleFaceNet.py:240: UserWarning: __floordiv__ is deprecated, and its behavior will change in a future version of pytorch. It currently rounds toward 0 (like the 'trunc' function NOT 'floor'). This results in incorrect rounding for negative values. To keep the current behavior, use torch.div(a, b, rounding_mode='trunc'), or for actual floor division, use torch.div(a, b, rounding_mode='floor').\n",
      "  x2 = x[:, (x.shape[1]//4):, :, :]\n",
      "WARNING:absl:Found untraced functions such as gen_tensor_dict while saving (showing 1 of 1). These functions will not be directly callable after loading.\n"
     ]
    },
    {
     "name": "stdout",
     "output_type": "stream",
     "text": [
      "INFO:tensorflow:Assets written to: saved_models/tf/seesaw_shuffleFaceNet_160.pb\\assets\n"
     ]
    },
    {
     "name": "stderr",
     "output_type": "stream",
     "text": [
      "INFO:tensorflow:Assets written to: saved_models/tf/seesaw_shuffleFaceNet_160.pb\\assets\n"
     ]
    },
    {
     "name": "stdout",
     "output_type": "stream",
     "text": [
      "seesaw_shuffleFaceNet_192\n"
     ]
    },
    {
     "name": "stderr",
     "output_type": "stream",
     "text": [
      "c:\\Users\\Gokul adethya\\Desktop\\SIH\\SIH_dl_models\\seesawfacenet_pytorch\\src\\seesaw_models\\seesaw_shuffleFaceNet.py:230: UserWarning: __floordiv__ is deprecated, and its behavior will change in a future version of pytorch. It currently rounds toward 0 (like the 'trunc' function NOT 'floor'). This results in incorrect rounding for negative values. To keep the current behavior, use torch.div(a, b, rounding_mode='trunc'), or for actual floor division, use torch.div(a, b, rounding_mode='floor').\n",
      "  x1 = x[:, :(x.shape[1]//4), :, :]\n",
      "c:\\Users\\Gokul adethya\\Desktop\\SIH\\SIH_dl_models\\seesawfacenet_pytorch\\src\\seesaw_models\\seesaw_shuffleFaceNet.py:231: UserWarning: __floordiv__ is deprecated, and its behavior will change in a future version of pytorch. It currently rounds toward 0 (like the 'trunc' function NOT 'floor'). This results in incorrect rounding for negative values. To keep the current behavior, use torch.div(a, b, rounding_mode='trunc'), or for actual floor division, use torch.div(a, b, rounding_mode='floor').\n",
      "  x2 = x[:, (x.shape[1]//4):, :, :]\n",
      "c:\\Users\\Gokul adethya\\Desktop\\SIH\\SIH_dl_models\\seesawfacenet_pytorch\\src\\seesaw_models\\seesaw_shuffleFaceNet.py:186: UserWarning: __floordiv__ is deprecated, and its behavior will change in a future version of pytorch. It currently rounds toward 0 (like the 'trunc' function NOT 'floor'). This results in incorrect rounding for negative values. To keep the current behavior, use torch.div(a, b, rounding_mode='trunc'), or for actual floor division, use torch.div(a, b, rounding_mode='floor').\n",
      "  output = input.view(n, G, c // G, h, w).permute(0, 2, 1, 3, 4).contiguous().view(n, c, h, w)\n",
      "c:\\Users\\Gokul adethya\\Desktop\\SIH\\SIH_dl_models\\seesawfacenet_pytorch\\src\\seesaw_models\\seesaw_shuffleFaceNet.py:239: UserWarning: __floordiv__ is deprecated, and its behavior will change in a future version of pytorch. It currently rounds toward 0 (like the 'trunc' function NOT 'floor'). This results in incorrect rounding for negative values. To keep the current behavior, use torch.div(a, b, rounding_mode='trunc'), or for actual floor division, use torch.div(a, b, rounding_mode='floor').\n",
      "  x1 = x[:, :(x.shape[1]//4), :, :]\n",
      "c:\\Users\\Gokul adethya\\Desktop\\SIH\\SIH_dl_models\\seesawfacenet_pytorch\\src\\seesaw_models\\seesaw_shuffleFaceNet.py:240: UserWarning: __floordiv__ is deprecated, and its behavior will change in a future version of pytorch. It currently rounds toward 0 (like the 'trunc' function NOT 'floor'). This results in incorrect rounding for negative values. To keep the current behavior, use torch.div(a, b, rounding_mode='trunc'), or for actual floor division, use torch.div(a, b, rounding_mode='floor').\n",
      "  x2 = x[:, (x.shape[1]//4):, :, :]\n",
      "WARNING:absl:Found untraced functions such as gen_tensor_dict while saving (showing 1 of 1). These functions will not be directly callable after loading.\n"
     ]
    },
    {
     "name": "stdout",
     "output_type": "stream",
     "text": [
      "INFO:tensorflow:Assets written to: saved_models/tf/seesaw_shuffleFaceNet_192.pb\\assets\n"
     ]
    },
    {
     "name": "stderr",
     "output_type": "stream",
     "text": [
      "INFO:tensorflow:Assets written to: saved_models/tf/seesaw_shuffleFaceNet_192.pb\\assets\n"
     ]
    },
    {
     "name": "stdout",
     "output_type": "stream",
     "text": [
      "seesaw_shareFaceNet_160\n"
     ]
    },
    {
     "name": "stderr",
     "output_type": "stream",
     "text": [
      "c:\\Users\\Gokul adethya\\Desktop\\SIH\\SIH_dl_models\\seesawfacenet_pytorch\\src\\seesaw_models\\seesaw_shareFaceNet.py:227: UserWarning: __floordiv__ is deprecated, and its behavior will change in a future version of pytorch. It currently rounds toward 0 (like the 'trunc' function NOT 'floor'). This results in incorrect rounding for negative values. To keep the current behavior, use torch.div(a, b, rounding_mode='trunc'), or for actual floor division, use torch.div(a, b, rounding_mode='floor').\n",
      "  x1 = x[:, :(x.shape[1]//4), :, :]\n",
      "c:\\Users\\Gokul adethya\\Desktop\\SIH\\SIH_dl_models\\seesawfacenet_pytorch\\src\\seesaw_models\\seesaw_shareFaceNet.py:228: UserWarning: __floordiv__ is deprecated, and its behavior will change in a future version of pytorch. It currently rounds toward 0 (like the 'trunc' function NOT 'floor'). This results in incorrect rounding for negative values. To keep the current behavior, use torch.div(a, b, rounding_mode='trunc'), or for actual floor division, use torch.div(a, b, rounding_mode='floor').\n",
      "  x2 = x[:, (x.shape[1]//4):, :, :]\n",
      "c:\\Users\\Gokul adethya\\Desktop\\SIH\\SIH_dl_models\\seesawfacenet_pytorch\\src\\seesaw_models\\seesaw_shareFaceNet.py:235: UserWarning: __floordiv__ is deprecated, and its behavior will change in a future version of pytorch. It currently rounds toward 0 (like the 'trunc' function NOT 'floor'). This results in incorrect rounding for negative values. To keep the current behavior, use torch.div(a, b, rounding_mode='trunc'), or for actual floor division, use torch.div(a, b, rounding_mode='floor').\n",
      "  x1 = x[:, :(x.shape[1]*3//4), :, :]\n",
      "c:\\Users\\Gokul adethya\\Desktop\\SIH\\SIH_dl_models\\seesawfacenet_pytorch\\src\\seesaw_models\\seesaw_shareFaceNet.py:236: UserWarning: __floordiv__ is deprecated, and its behavior will change in a future version of pytorch. It currently rounds toward 0 (like the 'trunc' function NOT 'floor'). This results in incorrect rounding for negative values. To keep the current behavior, use torch.div(a, b, rounding_mode='trunc'), or for actual floor division, use torch.div(a, b, rounding_mode='floor').\n",
      "  x2 = x[:, (x.shape[1]*3//4):, :, :]\n",
      "WARNING:absl:Found untraced functions such as gen_tensor_dict while saving (showing 1 of 1). These functions will not be directly callable after loading.\n"
     ]
    },
    {
     "name": "stdout",
     "output_type": "stream",
     "text": [
      "INFO:tensorflow:Assets written to: saved_models/tf/seesaw_shareFaceNet_160.pb\\assets\n"
     ]
    },
    {
     "name": "stderr",
     "output_type": "stream",
     "text": [
      "INFO:tensorflow:Assets written to: saved_models/tf/seesaw_shareFaceNet_160.pb\\assets\n"
     ]
    },
    {
     "name": "stdout",
     "output_type": "stream",
     "text": [
      "DW_seesawFaceNetv2\n"
     ]
    },
    {
     "name": "stderr",
     "output_type": "stream",
     "text": [
      "c:\\Users\\Gokul adethya\\Desktop\\SIH\\SIH_dl_models\\seesawfacenet_pytorch\\src\\seesaw_models\\DW_seesawFaceNetv2.py:233: UserWarning: __floordiv__ is deprecated, and its behavior will change in a future version of pytorch. It currently rounds toward 0 (like the 'trunc' function NOT 'floor'). This results in incorrect rounding for negative values. To keep the current behavior, use torch.div(a, b, rounding_mode='trunc'), or for actual floor division, use torch.div(a, b, rounding_mode='floor').\n",
      "  x1 = x[:, :(x.shape[1]//4), :, :]\n",
      "c:\\Users\\Gokul adethya\\Desktop\\SIH\\SIH_dl_models\\seesawfacenet_pytorch\\src\\seesaw_models\\DW_seesawFaceNetv2.py:234: UserWarning: __floordiv__ is deprecated, and its behavior will change in a future version of pytorch. It currently rounds toward 0 (like the 'trunc' function NOT 'floor'). This results in incorrect rounding for negative values. To keep the current behavior, use torch.div(a, b, rounding_mode='trunc'), or for actual floor division, use torch.div(a, b, rounding_mode='floor').\n",
      "  x2 = x[:, (x.shape[1]//4):, :, :]\n",
      "c:\\Users\\Gokul adethya\\Desktop\\SIH\\SIH_dl_models\\seesawfacenet_pytorch\\src\\seesaw_models\\DW_seesawFaceNetv2.py:186: UserWarning: __floordiv__ is deprecated, and its behavior will change in a future version of pytorch. It currently rounds toward 0 (like the 'trunc' function NOT 'floor'). This results in incorrect rounding for negative values. To keep the current behavior, use torch.div(a, b, rounding_mode='trunc'), or for actual floor division, use torch.div(a, b, rounding_mode='floor').\n",
      "  output = input.view(n, G, c // G, h, w).permute(0, 2, 1, 3, 4).contiguous().view(n, c, h, w)\n",
      "c:\\Users\\Gokul adethya\\Desktop\\SIH\\SIH_dl_models\\seesawfacenet_pytorch\\src\\seesaw_models\\DW_seesawFaceNetv2.py:242: UserWarning: __floordiv__ is deprecated, and its behavior will change in a future version of pytorch. It currently rounds toward 0 (like the 'trunc' function NOT 'floor'). This results in incorrect rounding for negative values. To keep the current behavior, use torch.div(a, b, rounding_mode='trunc'), or for actual floor division, use torch.div(a, b, rounding_mode='floor').\n",
      "  x1 = x[:, :(x.shape[1]//4), :, :]\n",
      "c:\\Users\\Gokul adethya\\Desktop\\SIH\\SIH_dl_models\\seesawfacenet_pytorch\\src\\seesaw_models\\DW_seesawFaceNetv2.py:243: UserWarning: __floordiv__ is deprecated, and its behavior will change in a future version of pytorch. It currently rounds toward 0 (like the 'trunc' function NOT 'floor'). This results in incorrect rounding for negative values. To keep the current behavior, use torch.div(a, b, rounding_mode='trunc'), or for actual floor division, use torch.div(a, b, rounding_mode='floor').\n",
      "  x2 = x[:, (x.shape[1]//4):, :, :]\n",
      "WARNING:absl:Found untraced functions such as gen_tensor_dict while saving (showing 1 of 1). These functions will not be directly callable after loading.\n"
     ]
    },
    {
     "name": "stdout",
     "output_type": "stream",
     "text": [
      "INFO:tensorflow:Assets written to: saved_models/tf/DW_seesawFaceNetv2.pb\\assets\n"
     ]
    },
    {
     "name": "stderr",
     "output_type": "stream",
     "text": [
      "INFO:tensorflow:Assets written to: saved_models/tf/DW_seesawFaceNetv2.pb\\assets\n"
     ]
    }
   ],
   "source": [
    "for name,model,saved_dict_path in models_configs:\n",
    "    print(name)\n",
    "    if saved_dict_path == None:\n",
    "        model = model\n",
    "\n",
    "    else:\n",
    "        model = get_seesawnet_model(model, torch.load(saved_dict_path))\n",
    "\n",
    "    model = model.cpu()\n",
    "    model.eval()\n",
    "\n",
    "    dummy_input = Variable(torch.randn(1, 3, 112, 112))\n",
    "    torch.onnx.export(model, dummy_input, f\"saved_models/onnx/{name}.onnx\")\n",
    "\n",
    "    model = onnx.load(f\"saved_models/onnx/{name}.onnx\")\n",
    "    tf_rep = prepare(model)\n",
    "    tf_rep.export_graph(f\"saved_models/tf/{name}.pb\")\n",
    "\n",
    "    # model = tf.saved_model.load(f\"saved_models/tf/{name}.pb\")\n",
    "\n",
    "    converter = tf.lite.TFLiteConverter.from_saved_model(f\"saved_models/tf/{name}.pb\")\n",
    "    tflite_model = converter.convert()\n",
    "\n",
    "    # Save the model.\n",
    "    with open(f'saved_models/lite/{name}.tflite', 'wb') as f:\n",
    "      f.write(tflite_model)\n"
   ]
  },
  {
   "cell_type": "code",
   "execution_count": 8,
   "metadata": {},
   "outputs": [
    {
     "data": {
      "text/plain": [
       "<tensorflow.python.saved_model.load.Loader._recreate_base_user_object.<locals>._UserObject at 0x2288a0f83a0>"
      ]
     },
     "execution_count": 8,
     "metadata": {},
     "output_type": "execute_result"
    }
   ],
   "source": [
    "model"
   ]
  }
 ],
 "metadata": {
  "kernelspec": {
   "display_name": "Python 3.9.9 64-bit",
   "language": "python",
   "name": "python3"
  },
  "language_info": {
   "codemirror_mode": {
    "name": "ipython",
    "version": 3
   },
   "file_extension": ".py",
   "mimetype": "text/x-python",
   "name": "python",
   "nbconvert_exporter": "python",
   "pygments_lexer": "ipython3",
   "version": "3.9.9"
  },
  "orig_nbformat": 4,
  "vscode": {
   "interpreter": {
    "hash": "fbe58ca63fe33f9eeae9e71d10368d2b4a57f2b1b395836210cc60d362c66949"
   }
  }
 },
 "nbformat": 4,
 "nbformat_minor": 2
}
