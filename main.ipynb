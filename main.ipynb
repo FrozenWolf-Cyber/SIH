{
 "cells": [
  {
   "cell_type": "code",
   "execution_count": 1,
   "metadata": {},
   "outputs": [],
   "source": [
    "import sys\n",
    "import os\n",
    "home_path = os.path.abspath(\"\")\n",
    "\n",
    "import warnings\n",
    "warnings.filterwarnings('ignore')\n",
    "\n",
    "# sys.path.append(home_path+'\\\\'+\"seesaw-facenet\")\n",
    "# sys.path.append(home_path+'\\\\'+\"seesawfacenet_pytorch\")\n",
    "# sys.path.append(home_path+'\\\\'+\"seesawfacenet_pytorch\\\\src\")\n",
    "\n",
    "import torch\n",
    "from torchinfo import summary\n",
    "from torchvision.transforms import transforms as T\n",
    "\n",
    "from seesawfacenet_pytorch.src.seesaw_models import seesaw_shareFaceNet, seesaw_shuffleFaceNet, DW_seesawFaceNetv2\n",
    "from PIL import Image\n",
    "import cv2\n",
    "import numpy as np\n",
    "import torch.nn as nn\n",
    "from tqdm.auto import tqdm\n"
   ]
  },
  {
   "cell_type": "code",
   "execution_count": 2,
   "metadata": {},
   "outputs": [],
   "source": [
    "class CustomNet(nn.Module):\n",
    "    def __init__(self, model):\n",
    "        super(CustomNet, self).__init__()\n",
    "        self.pre_process = T.Compose([T.Normalize([0.5, 0.5, 0.5], [0.5, 0.5, 0.5])])\n",
    "        self.backbone = model\n",
    "\n",
    "    def forward(self,x):\n",
    "        x = self.pre_process(x)\n",
    "        return self.backbone(x)\n",
    "\n",
    "\n",
    "# class re_CustomNet(nn.Module):\n",
    "#     def __init__(self, model):\n",
    "#         super(CustomNet, self).__init__()\n",
    "#         self.pre_process = T.Compose([T.Normalize([0.5, 0.5, 0.5], [0.5, 0.5, 0.5])])\n",
    "#         self.backbone = model\n",
    "\n",
    "#     def forward(self,x):\n",
    "#         x = self.pre_process(x)\n",
    "#         return self.backbone(x)\n",
    "\n",
    "reimplement_model_seesawnet = CustomNet(torch.jit.load(\"saved_models/Seesaw_shuffleFaceNet.pt\")).cpu().eval()\n"
   ]
  },
  {
   "cell_type": "code",
   "execution_count": 3,
   "metadata": {},
   "outputs": [],
   "source": [
    "def get_seesawnet_model(model, saved_dict):\n",
    "    # saved_dict = torch.load(\"saved_models/Seesaw-shuffleFaceNet_160bs/save/model_2019-06-22-17-20_accuracy_0.9184285714285714_step_568064_final.pth\", map_location=\"cuda\")\n",
    "    saved_dict = {v[7:]:k for v,k in saved_dict.items()}\n",
    "    model.load_state_dict(saved_dict)\n",
    "    model = model.cpu()\n",
    "    model.eval()\n",
    "\n",
    "    seesawnet_model = CustomNet(model)\n",
    "    seesawnet_model.eval()\n",
    "\n",
    "    img = Image.open(\"img.jpg\")\n",
    "    img = torch.FloatTensor(cv2.resize(np.asarray(img), (112, 112))).permute(2,1,0)\n",
    "    img = img/255.\n",
    "    img = img.unsqueeze(0)\n",
    "    out = model(img)\n",
    "\n",
    "    return seesawnet_model"
   ]
  },
  {
   "cell_type": "code",
   "execution_count": 4,
   "metadata": {},
   "outputs": [
    {
     "name": "stderr",
     "output_type": "stream",
     "text": [
      "100%|██████████| 5/5 [00:19<00:00,  3.94s/it]\n"
     ]
    }
   ],
   "source": [
    "from torch.utils.mobile_optimizer import optimize_for_mobile\n",
    "\n",
    "models_configs = [(\"seesaw_shuffleFaceNet_160\", seesaw_shuffleFaceNet.seesaw_shuffleFaceNet(512), \"saved_models/Seesaw-shuffleFaceNet_160bs/save/model_2019-06-22-17-20_accuracy_0.9184285714285714_step_568064_final.pth\"),\n",
    "                 (\"seesaw_shuffleFaceNet_192\", seesaw_shuffleFaceNet.seesaw_shuffleFaceNet(512), \"saved_models/Seesaw-shuffleFaceNet_192bs/save/model_2019-06-14-06-06_accuracy_0.9269999999999999_step_475328_final.pth\"),\n",
    "                 (\"seesaw_shareFaceNet_160\", seesaw_shareFaceNet.seesaw_shareFaceNet(512), \"saved_models/Seesaw-shareFaceNet_160bs/save/model_2019-06-19-04-38_accuracy_0.9298571428571428_step_568064_final.pth\"),\n",
    "                 (\"DW_seesawFaceNetv2\", DW_seesawFaceNetv2.DW_seesawFaceNetv2(512), \"saved_models/DW-SeesawFaceNetv2_128bs/save/model_2019-08-03-07-50_accuracy_0.9486000000000001_step_727840_final.pth\"),\n",
    "                 (\"reimplementation_seesawnet\",reimplement_model_seesawnet,None)\n",
    "]\n",
    "\n",
    "for name,model,saved_dict_path in tqdm(models_configs):\n",
    "    if saved_dict_path == None:\n",
    "        model = model\n",
    "\n",
    "    else:\n",
    "        model = get_seesawnet_model(model, torch.load(saved_dict_path))\n",
    "        \n",
    "    example = torch.rand(1, 3, 112, 112)\n",
    "\n",
    "    traced_script_module = torch.jit.trace(model, example)\n",
    "    traced_script_module_optimized = optimize_for_mobile(traced_script_module)\n",
    "    traced_script_module_optimized._save_for_lite_interpreter(f\"saved_models/lite/{name}.ptl\")\n",
    "    \n",
    "    # m_jit = torch.jit.script(model)\n",
    "    # m_jit.save(f\"saved_models/jit/{name}.ptl\")"
   ]
  }
 ],
 "metadata": {
  "kernelspec": {
   "display_name": "Python 3.9.9 64-bit",
   "language": "python",
   "name": "python3"
  },
  "language_info": {
   "codemirror_mode": {
    "name": "ipython",
    "version": 3
   },
   "file_extension": ".py",
   "mimetype": "text/x-python",
   "name": "python",
   "nbconvert_exporter": "python",
   "pygments_lexer": "ipython3",
   "version": "3.9.9"
  },
  "orig_nbformat": 4,
  "vscode": {
   "interpreter": {
    "hash": "fbe58ca63fe33f9eeae9e71d10368d2b4a57f2b1b395836210cc60d362c66949"
   }
  }
 },
 "nbformat": 4,
 "nbformat_minor": 2
}
