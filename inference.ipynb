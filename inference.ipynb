{
 "cells": [
  {
   "cell_type": "code",
   "execution_count": 1,
   "metadata": {},
   "outputs": [],
   "source": [
    "import numpy as np\n",
    "# import cupy as cp\n",
    "import os\n",
    "import torch\n",
    "import pickle\n",
    "from tqdm.auto import tqdm\n",
    "\n",
    "embeds_names = ['embeddings_mobilefacenet',\n",
    "'embeddings_DW_seesawFaceNetv2',\n",
    " 'embeddings_reimplementation_seesawnet',\n",
    " 'embeddings_seesaw_shareFaceNet_160',\n",
    " 'embeddings_seesaw_shuffleFaceNet_160',\n",
    " 'embeddings_seesaw_shuffleFaceNet_192',]\n",
    "\n"
   ]
  },
  {
   "cell_type": "code",
   "execution_count": 2,
   "metadata": {},
   "outputs": [],
   "source": [
    "def euclidean_dist(x1, x2):\n",
    "    return torch.linalg.norm(x1 - x2, dim=1)\n",
    "\n",
    "\n",
    "def accuracy(x):\n",
    "    if sum(x) == 0:\n",
    "        return 0\n",
    "    return (x[0]+x[1])/sum(x)\n",
    "\n",
    "def recall(x):  #TP, TN, FP, FN\n",
    "    if x[0] == 0:\n",
    "        return 0\n",
    "\n",
    "    return x[0]/(x[0]+x[3])\n",
    "\n",
    "def precision(x):\n",
    "    if x[0] == 0:\n",
    "        return 0\n",
    "\n",
    "    return x[0]/(x[0]+x[2])\n",
    "\n",
    "def f1_score(x):\n",
    "    if x[0] == 0:\n",
    "        return 0\n",
    "\n",
    "    return x[0]/(x[0] + 0.5*(x[2]+x[3]))\n",
    "\n",
    "def specificity(x):\n",
    "    if x[1] == 0:\n",
    "        return 0\n",
    "\n",
    "    return x[1]/(x[1] + x[2])\n",
    "\n",
    "\n"
   ]
  },
  {
   "cell_type": "code",
   "execution_count": 3,
   "metadata": {},
   "outputs": [],
   "source": [
    "import matplotlib.pyplot as plt\n",
    "from sklearn import metrics\n",
    "\n",
    "\n",
    "def model_result(name):\n",
    "    embed_paths = []\n",
    "    embed_label = []\n",
    "    \n",
    "    print(\"Loading .npy files...\")\n",
    "    for idx, person_name in tqdm(enumerate(os.listdir(name)), total = len(os.listdir(name))):\n",
    "        for img_name in os.listdir(name+'/'+person_name):\n",
    "            embed_paths.append(np.load(f\"{name}/{person_name}/{img_name}\"))\n",
    "            embed_label.append(idx)\n",
    "\n",
    "    embed_paths = torch.FloatTensor(embed_paths).cuda()\n",
    "    embed_label = torch.FloatTensor(embed_label).cuda()\n",
    "\n",
    "    dist = []\n",
    "    target = []\n",
    "\n",
    "    print(\"Finding Euclidean Distances...\")\n",
    "\n",
    "    for x_embed, x_label in tqdm(zip(embed_paths, embed_label), total=len(embed_label)):\n",
    "        dist.append(euclidean_dist(x_embed.view(1,-1).repeat(len(embed_paths),1), embed_paths))\n",
    "        target.append(embed_label == x_label)\n",
    "\n",
    "    dist_arr = []\n",
    "    label_arr = []\n",
    "    \n",
    "    for i,j in tqdm(zip(dist, target), total=len(dist)):\n",
    "        dist_ = []\n",
    "        target_ = []\n",
    "        n_matching = 0\n",
    "        n_notmatching = 0\n",
    "\n",
    "        for x,y in zip(i.detach().cpu().tolist(), j.detach().cpu().tolist()):\n",
    "            if y is True: #matches\n",
    "                target_.append(0)\n",
    "                dist_.append(x)\n",
    "                n_matching+=1\n",
    "\n",
    "            elif y is False and n_matching>n_notmatching:\n",
    "                target_.append(1)\n",
    "                dist_.append(x)    \n",
    "                n_notmatching+=1\n",
    "\n",
    "            if y is False and n_notmatching==n_matching and n_matching!=0:\n",
    "                break\n",
    "\n",
    "        # if n_matching>n_notmatching:\n",
    "        #     dist_.extend(i.detach().cpu().tolist()[:n_matching-n_notmatching])     \n",
    "        #     target_.extend((n_matching-n_notmatching)*[0])  \n",
    "\n",
    "        dist_arr.extend(dist_)\n",
    "        label_arr.extend(target_)\n",
    "\n",
    "\n",
    "    print(len(dist_arr), len(label_arr))\n",
    "    max_, min_ = max(dist_arr), min(dist_arr)\n",
    "\n",
    "    \n",
    "    analysis = {}\n",
    "\n",
    "    print(\"Finding Optimal threshold...\")\n",
    "\n",
    "    fpr, tpr, thresholds = metrics.roc_curve(label_arr, dist_arr, pos_label=1)\n",
    "\n",
    "    \n",
    "\n",
    "    plt.plot(fpr, tpr)\n",
    "    plt.title(\"ROC curve\")\n",
    "    plt.xlabel(\"False Positive\")\n",
    "    plt.ylabel(\"True Positive\")\n",
    "    plt.show()\n",
    "\n",
    "\n",
    "    gmean = np.sqrt(tpr * (1 - fpr))\n",
    "\n",
    "    # Find the optimal threshold\n",
    "    index = np.argmax(gmean)\n",
    "    thresholdOpt = round(thresholds[index], ndigits = 4)\n",
    "    gmeanOpt = round(gmean[index], ndigits = 4)\n",
    "    fprOpt = round(fpr[index], ndigits = 4)\n",
    "    tprOpt = round(tpr[index], ndigits = 4)\n",
    "    \n",
    "    print('Best Threshold: {} with G-Mean: {}'.format(thresholdOpt, gmeanOpt))\n",
    "    print('FPR: {}, TPR: {}'.format(fprOpt, tprOpt))\n",
    "\n",
    "    # for ith_threshold in tqdm(np.linspace(min_, max_, 500)):\n",
    "    #     TP, TN, FP, FN = 0, 0, 0, 0\n",
    "    #     for i in tqdm(range(len(dist_arr)), leave=False):\n",
    "    #         if dist_arr[i]>=ith_threshold:\n",
    "    #             if label_arr[i] == 1:\n",
    "    #                 TP+=1\n",
    "    #             else:\n",
    "    #                 FP+=1\n",
    "\n",
    "    #         else:\n",
    "    #             if label_arr[i] == 0:\n",
    "    #                 TN+=1\n",
    "    #             else:\n",
    "    #                 FN+=1\n",
    "\n",
    "    #     x = [TP, TN, FP, FN]\n",
    "\n",
    "    #     analysis[ith_threshold] = x\n",
    "\n",
    "    # pickle.dump(analysis, open(f\"{name}.pkl\", 'wb'))\n"
   ]
  },
  {
   "cell_type": "code",
   "execution_count": 4,
   "metadata": {},
   "outputs": [
    {
     "name": "stdout",
     "output_type": "stream",
     "text": [
      "1 embeddings_mobilefacenet\n",
      "Loading .npy files...\n"
     ]
    },
    {
     "name": "stderr",
     "output_type": "stream",
     "text": [
      "100%|██████████| 5715/5715 [01:05<00:00, 87.17it/s] \n",
      "C:\\Users\\GOKULA~1\\AppData\\Local\\Temp/ipykernel_13156/4200152890.py:15: UserWarning: Creating a tensor from a list of numpy.ndarrays is extremely slow. Please consider converting the list to a single numpy.ndarray with numpy.array() before converting to a tensor. (Triggered internally at  C:\\actions-runner\\_work\\pytorch\\pytorch\\builder\\windows\\pytorch\\torch\\csrc\\utils\\tensor_new.cpp:210.)\n",
      "  embed_paths = torch.FloatTensor(embed_paths).cuda()\n"
     ]
    },
    {
     "name": "stdout",
     "output_type": "stream",
     "text": [
      "Finding Euclidean Distances...\n"
     ]
    },
    {
     "name": "stderr",
     "output_type": "stream",
     "text": [
      "100%|██████████| 13137/13137 [00:03<00:00, 4102.77it/s]\n",
      "100%|██████████| 13137/13137 [00:13<00:00, 973.51it/s]\n"
     ]
    },
    {
     "name": "stdout",
     "output_type": "stream",
     "text": [
      "986257 986257\n",
      "Finding Optimal threshold...\n"
     ]
    },
    {
     "data": {
      "image/png": "[encoded data removed]",
      "text/plain": [
       "<Figure size 432x288 with 1 Axes>"
      ]
     },
     "metadata": {
      "needs_background": "light"
     },
     "output_type": "display_data"
    },
    {
     "name": "stdout",
     "output_type": "stream",
     "text": [
      "Best Threshold: 48.703 with G-Mean: 0.85\n",
      "FPR: 0.1579, TPR: 0.8579\n",
      "2 embeddings_DW_seesawFaceNetv2\n",
      "Loading .npy files...\n"
     ]
    },
    {
     "name": "stderr",
     "output_type": "stream",
     "text": [
      "100%|██████████| 5749/5749 [01:15<00:00, 76.28it/s] \n"
     ]
    },
    {
     "name": "stdout",
     "output_type": "stream",
     "text": [
      "Finding Euclidean Distances...\n"
     ]
    },
    {
     "name": "stderr",
     "output_type": "stream",
     "text": [
      "100%|██████████| 13233/13233 [00:05<00:00, 2446.71it/s]\n",
      "100%|██████████| 13233/13233 [00:15<00:00, 852.09it/s]\n"
     ]
    },
    {
     "name": "stdout",
     "output_type": "stream",
     "text": [
      "995493 995493\n",
      "Finding Optimal threshold...\n"
     ]
    },
    {
     "data": {
      "image/png": "[encoded data removed]",
      "text/plain": [
       "<Figure size 432x288 with 1 Axes>"
      ]
     },
     "metadata": {
      "needs_background": "light"
     },
     "output_type": "display_data"
    },
    {
     "name": "stdout",
     "output_type": "stream",
     "text": [
      "Best Threshold: 1.2418 with G-Mean: 0.9008\n",
      "FPR: 0.1754, TPR: 0.984\n",
      "3 embeddings_reimplementation_seesawnet\n",
      "Loading .npy files...\n"
     ]
    },
    {
     "name": "stderr",
     "output_type": "stream",
     "text": [
      "100%|██████████| 5749/5749 [01:15<00:00, 76.55it/s] \n"
     ]
    },
    {
     "name": "stdout",
     "output_type": "stream",
     "text": [
      "Finding Euclidean Distances...\n"
     ]
    },
    {
     "name": "stderr",
     "output_type": "stream",
     "text": [
      "100%|██████████| 13233/13233 [00:05<00:00, 2489.75it/s]\n",
      "100%|██████████| 13233/13233 [00:14<00:00, 911.28it/s]\n"
     ]
    },
    {
     "name": "stdout",
     "output_type": "stream",
     "text": [
      "995493 995493\n",
      "Finding Optimal threshold...\n"
     ]
    },
    {
     "data": {
      "image/png": "[encoded data removed]",
      "text/plain": [
       "<Figure size 432x288 with 1 Axes>"
      ]
     },
     "metadata": {
      "needs_background": "light"
     },
     "output_type": "display_data"
    },
    {
     "name": "stdout",
     "output_type": "stream",
     "text": [
      "Best Threshold: 80.4722 with G-Mean: 0.8312\n",
      "FPR: 0.2156, TPR: 0.8808\n",
      "4 embeddings_seesaw_shareFaceNet_160\n",
      "Loading .npy files...\n"
     ]
    },
    {
     "name": "stderr",
     "output_type": "stream",
     "text": [
      "100%|██████████| 5749/5749 [01:16<00:00, 75.51it/s] \n"
     ]
    },
    {
     "name": "stdout",
     "output_type": "stream",
     "text": [
      "Finding Euclidean Distances...\n"
     ]
    },
    {
     "name": "stderr",
     "output_type": "stream",
     "text": [
      "100%|██████████| 13233/13233 [00:05<00:00, 2553.53it/s]\n",
      "100%|██████████| 13233/13233 [00:15<00:00, 861.00it/s]\n"
     ]
    },
    {
     "name": "stdout",
     "output_type": "stream",
     "text": [
      "995493 995493\n",
      "Finding Optimal threshold...\n"
     ]
    },
    {
     "data": {
      "image/png": "[encoded data removed]",
      "text/plain": [
       "<Figure size 432x288 with 1 Axes>"
      ]
     },
     "metadata": {
      "needs_background": "light"
     },
     "output_type": "display_data"
    },
    {
     "name": "stdout",
     "output_type": "stream",
     "text": [
      "Best Threshold: 1.2574 with G-Mean: 0.8494\n",
      "FPR: 0.2204, TPR: 0.9255\n",
      "5 embeddings_seesaw_shuffleFaceNet_160\n",
      "Loading .npy files...\n"
     ]
    },
    {
     "name": "stderr",
     "output_type": "stream",
     "text": [
      "100%|██████████| 5749/5749 [01:15<00:00, 75.96it/s] \n"
     ]
    },
    {
     "name": "stdout",
     "output_type": "stream",
     "text": [
      "Finding Euclidean Distances...\n"
     ]
    },
    {
     "name": "stderr",
     "output_type": "stream",
     "text": [
      "100%|██████████| 13233/13233 [00:05<00:00, 2511.15it/s]\n",
      "100%|██████████| 13233/13233 [00:15<00:00, 849.26it/s]\n"
     ]
    },
    {
     "name": "stdout",
     "output_type": "stream",
     "text": [
      "995493 995493\n",
      "Finding Optimal threshold...\n"
     ]
    },
    {
     "data": {
      "image/png": "[encoded data removed]",
      "text/plain": [
       "<Figure size 432x288 with 1 Axes>"
      ]
     },
     "metadata": {
      "needs_background": "light"
     },
     "output_type": "display_data"
    },
    {
     "name": "stdout",
     "output_type": "stream",
     "text": [
      "Best Threshold: 1.2461 with G-Mean: 0.8616\n",
      "FPR: 0.2126, TPR: 0.9427\n",
      "6 embeddings_seesaw_shuffleFaceNet_192\n",
      "Loading .npy files...\n"
     ]
    },
    {
     "name": "stderr",
     "output_type": "stream",
     "text": [
      "100%|██████████| 5749/5749 [01:13<00:00, 78.45it/s] \n"
     ]
    },
    {
     "name": "stdout",
     "output_type": "stream",
     "text": [
      "Finding Euclidean Distances...\n"
     ]
    },
    {
     "name": "stderr",
     "output_type": "stream",
     "text": [
      "100%|██████████| 13233/13233 [00:05<00:00, 2481.01it/s]\n",
      "100%|██████████| 13233/13233 [00:14<00:00, 900.91it/s]\n"
     ]
    },
    {
     "name": "stdout",
     "output_type": "stream",
     "text": [
      "995493 995493\n",
      "Finding Optimal threshold...\n"
     ]
    },
    {
     "data": {
      "image/png": "[encoded data removed]",
      "text/plain": [
       "<Figure size 432x288 with 1 Axes>"
      ]
     },
     "metadata": {
      "needs_background": "light"
     },
     "output_type": "display_data"
    },
    {
     "name": "stdout",
     "output_type": "stream",
     "text": [
      "Best Threshold: 1.2628 with G-Mean: 0.8678\n",
      "FPR: 0.1963, TPR: 0.937\n"
     ]
    }
   ],
   "source": [
    "for i, name in enumerate(embeds_names):\n",
    "    print(i+1, name)\n",
    "    model_result(name)"
   ]
  },
  {
   "cell_type": "code",
   "execution_count": 5,
   "metadata": {},
   "outputs": [],
   "source": [
    "# _dist_arr = [i.detach().cpu().tolist() for i in dist]\n",
    "# _label_arr = [i.detach().cpu().tolist() for i in target]\n",
    "\n",
    "# dist_arr = []\n",
    "# label_arr = []\n",
    "\n",
    "# for i,j in tqdm(zip(dist, target), total=len(dist)):\n",
    "#     dist_arr.extend(i.detach().cpu().tolist())\n",
    "#     label_arr.extend([ 0 if i is False else 1 for i in j.detach().cpu().tolist()])"
   ]
  },
  {
   "cell_type": "code",
   "execution_count": 6,
   "metadata": {},
   "outputs": [],
   "source": [
    "# postive_dist = [] # same face\n",
    "# negative_dist = [] # different face\n",
    "\n",
    "# for i,j in tqdm(zip(dist_arr, label_arr), total = len(dist_arr)):\n",
    "#     if j is 1:\n",
    "#         postive_dist.append(i)\n",
    "\n",
    "#     else:\n",
    "#         negative_dist.append(i)"
   ]
  },
  {
   "cell_type": "code",
   "execution_count": 7,
   "metadata": {},
   "outputs": [],
   "source": [
    "# max_, min_ = max(dist_arr), min(dist_arr)\n",
    "\n",
    "# max_, min_\n",
    "# # max(negative_dist), min(negative_dist), max(postive_dist), min(postive_dist)"
   ]
  },
  {
   "cell_type": "code",
   "execution_count": 8,
   "metadata": {},
   "outputs": [],
   "source": [
    "# from sklearn import metrics\n",
    "# fpr, tpr, thresholds = metrics.roc_curve(label_arr, dist_arr, pos_label=1)\n",
    "# import matplotlib.pyplot as plt\n",
    "\n",
    "# plt.plot(fpr, tpr)\n",
    "# plt.title(\"ROC curve\")\n",
    "# plt.xlabel(\"False Positive\")\n",
    "# plt.ylabel(\"True Positive\")\n",
    "# plt.show()\n",
    "\n",
    "# gmean = np.sqrt(tpr * (1 - fpr))\n",
    "\n",
    "# # Find the optimal threshold\n",
    "# index = np.argmax(gmean)\n",
    "# thresholdOpt = round(thresholds[index], ndigits = 4)\n",
    "# gmeanOpt = round(gmean[index], ndigits = 4)\n",
    "# fprOpt = round(fpr[index], ndigits = 4)\n",
    "# tprOpt = round(tpr[index], ndigits = 4)\n",
    "\n",
    "# print('Best Threshold: {} with G-Mean: {}'.format(thresholdOpt, gmeanOpt))\n",
    "# print('FPR: {}, TPR: {}'.format(fprOpt, tprOpt))"
   ]
  },
  {
   "cell_type": "code",
   "execution_count": null,
   "metadata": {},
   "outputs": [],
   "source": []
  }
 ],
 "metadata": {
  "kernelspec": {
   "display_name": "Python 3.9.9 64-bit",
   "language": "python",
   "name": "python3"
  },
  "language_info": {
   "codemirror_mode": {
    "name": "ipython",
    "version": 3
   },
   "file_extension": ".py",
   "mimetype": "text/x-python",
   "name": "python",
   "nbconvert_exporter": "python",
   "pygments_lexer": "ipython3",
   "version": "3.9.9"
  },
  "orig_nbformat": 4,
  "vscode": {
   "interpreter": {
    "hash": "fbe58ca63fe33f9eeae9e71d10368d2b4a57f2b1b395836210cc60d362c66949"
   }
  }
 },
 "nbformat": 4,
 "nbformat_minor": 2
}
