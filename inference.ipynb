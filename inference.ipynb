{
 "cells": [
  {
   "cell_type": "code",
   "execution_count": 1,
   "metadata": {},
   "outputs": [],
   "source": [
    "import numpy as np\n",
    "# import cupy as cp\n",
    "import os\n",
    "import torch\n",
    "import pickle\n",
    "from tqdm.auto import tqdm\n",
    "\n",
    "embeds_names = [\n",
    "    'embeddings_mobilefacenet',\n",
    "'embeddings_DW_seesawFaceNetv2',\n",
    " 'embeddings_reimplementation_seesawnet',\n",
    " 'embeddings_seesaw_shareFaceNet_160',\n",
    " 'embeddings_seesaw_shuffleFaceNet_160',\n",
    " 'embeddings_seesaw_shuffleFaceNet_192',]\n",
    "\n"
   ]
  },
  {
   "cell_type": "code",
   "execution_count": 2,
   "metadata": {},
   "outputs": [],
   "source": [
    "def euclidean_dist(x1, x2):\n",
    "    return torch.linalg.norm(x1 - x2, dim=1)\n",
    "\n",
    "\n",
    "def accuracy(x):\n",
    "    if sum(x) == 0:\n",
    "        return 0\n",
    "    return (x[0]+x[1])/sum(x)\n",
    "\n",
    "def recall(x):  #TP, TN, FP, FN\n",
    "    if x[0] == 0:\n",
    "        return 0\n",
    "\n",
    "    return x[0]/(x[0]+x[3])\n",
    "\n",
    "def precision(x):\n",
    "    if x[0] == 0:\n",
    "        return 0\n",
    "\n",
    "    return x[0]/(x[0]+x[2])\n",
    "\n",
    "def f1_score(x):\n",
    "    if x[0] == 0:\n",
    "        return 0\n",
    "\n",
    "    return x[0]/(x[0] + 0.5*(x[2]+x[3]))\n",
    "\n",
    "def specificity(x):\n",
    "    if x[1] == 0:\n",
    "        return 0\n",
    "\n",
    "    return x[1]/(x[1] + x[2])\n",
    "\n",
    "\n"
   ]
  },
  {
   "cell_type": "code",
   "execution_count": 3,
   "metadata": {},
   "outputs": [],
   "source": [
    "import matplotlib.pyplot as plt\n",
    "from sklearn import metrics\n",
    "\n",
    "\n",
    "def model_result(name):\n",
    "    embed_paths = []\n",
    "    embed_label = []\n",
    "    \n",
    "    print(\"Loading .npy files...\")\n",
    "    for idx, person_name in tqdm(enumerate(os.listdir(name)), total = len(os.listdir(name))):\n",
    "        for img_name in os.listdir(name+'/'+person_name):\n",
    "            embed_paths.append(np.load(f\"{name}/{person_name}/{img_name}\"))\n",
    "            embed_label.append(idx)\n",
    "\n",
    "    embed_paths = torch.FloatTensor(embed_paths).cuda()\n",
    "    embed_label = torch.FloatTensor(embed_label).cuda()\n",
    "\n",
    "    dist = []\n",
    "    target = []\n",
    "\n",
    "    print(\"Finding Euclidean Distances...\")\n",
    "\n",
    "    for x_embed, x_label in tqdm(zip(embed_paths, embed_label), total=len(embed_label)):\n",
    "        dist.append(euclidean_dist(x_embed.view(1,-1).repeat(len(embed_paths),1), embed_paths))\n",
    "        target.append(embed_label == x_label)\n",
    "\n",
    "    dist_arr = []\n",
    "    label_arr = []\n",
    "    \n",
    "    for i,j in tqdm(zip(dist, target), total=len(dist)):\n",
    "        dist_ = []\n",
    "        target_ = []\n",
    "        n_matching = 0\n",
    "        n_notmatching = 0\n",
    "\n",
    "        for x,y in zip(i.detach().cpu().tolist(), j.detach().cpu().tolist()):\n",
    "            if y is True: #matches\n",
    "                target_.append(0)\n",
    "                dist_.append(x)\n",
    "                n_matching+=1\n",
    "\n",
    "            elif y is False and n_matching>n_notmatching:\n",
    "                target_.append(1)\n",
    "                dist_.append(x)    \n",
    "                n_notmatching+=1\n",
    "\n",
    "            if y is False and n_notmatching==n_matching and n_matching!=0:\n",
    "                break\n",
    "\n",
    "        # if n_matching>n_notmatching:\n",
    "        #     dist_.extend(i.detach().cpu().tolist()[:n_matching-n_notmatching])     \n",
    "        #     target_.extend((n_matching-n_notmatching)*[0])  \n",
    "\n",
    "        dist_arr.extend(dist_)\n",
    "        label_arr.extend(target_)\n",
    "\n",
    "\n",
    "    print(len(dist_arr), len(label_arr))\n",
    "    max_, min_ = max(dist_arr), min(dist_arr)\n",
    "\n",
    "    \n",
    "    analysis = {}\n",
    "\n",
    "    print(\"Finding Optimal threshold...\")\n",
    "\n",
    "    fpr, tpr, thresholds = metrics.roc_curve(label_arr, dist_arr, pos_label=1)\n",
    "\n",
    "    \n",
    "\n",
    "    plt.plot(fpr, tpr)\n",
    "    plt.title(\"ROC curve\")\n",
    "    plt.xlabel(\"False Positive\")\n",
    "    plt.ylabel(\"True Positive\")\n",
    "    plt.show()\n",
    "\n",
    "\n",
    "    gmean = np.sqrt(tpr * (1 - fpr))\n",
    "\n",
    "    # Find the optimal threshold\n",
    "    index = np.argmax(gmean)\n",
    "    thresholdOpt = round(thresholds[index], ndigits = 4)\n",
    "    gmeanOpt = round(gmean[index], ndigits = 4)\n",
    "    fprOpt = round(fpr[index], ndigits = 4)\n",
    "    tprOpt = round(tpr[index], ndigits = 4)\n",
    "    \n",
    "    print('Best Threshold: {} with G-Mean: {}'.format(thresholdOpt, gmeanOpt))\n",
    "    print('FPR: {}, TPR: {}'.format(fprOpt, tprOpt))\n",
    "\n",
    "    # for ith_threshold in tqdm(np.linspace(min_, max_, 500)):\n",
    "    #     TP, TN, FP, FN = 0, 0, 0, 0\n",
    "    #     for i in tqdm(range(len(dist_arr)), leave=False):\n",
    "    #         if dist_arr[i]>=ith_threshold:\n",
    "    #             if label_arr[i] == 1:\n",
    "    #                 TP+=1\n",
    "    #             else:\n",
    "    #                 FP+=1\n",
    "\n",
    "    #         else:\n",
    "    #             if label_arr[i] == 0:\n",
    "    #                 TN+=1\n",
    "    #             else:\n",
    "    #                 FN+=1\n",
    "\n",
    "    #     x = [TP, TN, FP, FN]\n",
    "\n",
    "    #     analysis[ith_threshold] = x\n",
    "\n",
    "    # pickle.dump(analysis, open(f\"{name}.pkl\", 'wb'))\n"
   ]
  },
  {
   "cell_type": "code",
   "execution_count": 4,
   "metadata": {},
   "outputs": [
    {
     "name": "stdout",
     "output_type": "stream",
     "text": [
      "1 embeddings_mobilefacenet\n",
      "Loading .npy files...\n"
     ]
    },
    {
     "data": {
      "application/vnd.jupyter.widget-view+json": {
       "model_id": "0903754f755e485c9e4d15449de99183",
       "version_major": 2,
       "version_minor": 0
      },
      "text/plain": [
       "  0%|          | 0/5715 [00:00<?, ?it/s]"
      ]
     },
     "metadata": {},
     "output_type": "display_data"
    },
    {
     "name": "stderr",
     "output_type": "stream",
     "text": [
      "/home/frozenwolf/miniconda3/lib/python3.7/site-packages/ipykernel_launcher.py:15: UserWarning: Creating a tensor from a list of numpy.ndarrays is extremely slow. Please consider converting the list to a single numpy.ndarray with numpy.array() before converting to a tensor. (Triggered internally at  /opt/conda/conda-bld/pytorch_1659484809535/work/torch/csrc/utils/tensor_new.cpp:201.)\n",
      "  from ipykernel import kernelapp as app\n"
     ]
    },
    {
     "name": "stdout",
     "output_type": "stream",
     "text": [
      "Finding Euclidean Distances...\n"
     ]
    },
    {
     "data": {
      "application/vnd.jupyter.widget-view+json": {
       "model_id": "2fc4832026a84e27b7de5b315a586202",
       "version_major": 2,
       "version_minor": 0
      },
      "text/plain": [
       "  0%|          | 0/13137 [00:00<?, ?it/s]"
      ]
     },
     "metadata": {},
     "output_type": "display_data"
    },
    {
     "data": {
      "application/vnd.jupyter.widget-view+json": {
       "model_id": "3f724865f3e14ae4809b50663d40305b",
       "version_major": 2,
       "version_minor": 0
      },
      "text/plain": [
       "  0%|          | 0/13137 [00:00<?, ?it/s]"
      ]
     },
     "metadata": {},
     "output_type": "display_data"
    },
    {
     "name": "stdout",
     "output_type": "stream",
     "text": [
      "985969 985969\n",
      "Finding Optimal threshold...\n"
     ]
    },
    {
     "data": {
      "image/png": "[encoded data removed]",
      "text/plain": [
       "<Figure size 432x288 with 1 Axes>"
      ]
     },
     "metadata": {
      "needs_background": "light"
     },
     "output_type": "display_data"
    },
    {
     "name": "stdout",
     "output_type": "stream",
     "text": [
      "Best Threshold: 49.0958 with G-Mean: 0.8577\n",
      "FPR: 0.1468, TPR: 0.8622\n",
      "2 embeddings_DW_seesawFaceNetv2\n",
      "Loading .npy files...\n"
     ]
    },
    {
     "data": {
      "application/vnd.jupyter.widget-view+json": {
       "model_id": "36f05a2e63594c79bdf7515f0a47eb12",
       "version_major": 2,
       "version_minor": 0
      },
      "text/plain": [
       "  0%|          | 0/5749 [00:00<?, ?it/s]"
      ]
     },
     "metadata": {},
     "output_type": "display_data"
    },
    {
     "name": "stdout",
     "output_type": "stream",
     "text": [
      "Finding Euclidean Distances...\n"
     ]
    },
    {
     "data": {
      "application/vnd.jupyter.widget-view+json": {
       "model_id": "86d69a1f2be34484b0287eb33a147978",
       "version_major": 2,
       "version_minor": 0
      },
      "text/plain": [
       "  0%|          | 0/13233 [00:00<?, ?it/s]"
      ]
     },
     "metadata": {},
     "output_type": "display_data"
    },
    {
     "data": {
      "application/vnd.jupyter.widget-view+json": {
       "model_id": "434cc99af9ca4851a4fac364c08cc349",
       "version_major": 2,
       "version_minor": 0
      },
      "text/plain": [
       "  0%|          | 0/13233 [00:00<?, ?it/s]"
      ]
     },
     "metadata": {},
     "output_type": "display_data"
    },
    {
     "name": "stdout",
     "output_type": "stream",
     "text": [
      "995205 995205\n",
      "Finding Optimal threshold...\n"
     ]
    },
    {
     "data": {
      "image/png": "[encoded data removed]",
      "text/plain": [
       "<Figure size 432x288 with 1 Axes>"
      ]
     },
     "metadata": {
      "needs_background": "light"
     },
     "output_type": "display_data"
    },
    {
     "name": "stdout",
     "output_type": "stream",
     "text": [
      "Best Threshold: 1.2679 with G-Mean: 0.9053\n",
      "FPR: 0.1659, TPR: 0.9825\n",
      "3 embeddings_reimplementation_seesawnet\n",
      "Loading .npy files...\n"
     ]
    },
    {
     "data": {
      "application/vnd.jupyter.widget-view+json": {
       "model_id": "bb7580b57aae4fe782ae4b9545da8554",
       "version_major": 2,
       "version_minor": 0
      },
      "text/plain": [
       "  0%|          | 0/5749 [00:00<?, ?it/s]"
      ]
     },
     "metadata": {},
     "output_type": "display_data"
    },
    {
     "name": "stdout",
     "output_type": "stream",
     "text": [
      "Finding Euclidean Distances...\n"
     ]
    },
    {
     "data": {
      "application/vnd.jupyter.widget-view+json": {
       "model_id": "927de116318345fd8697a8035391f91d",
       "version_major": 2,
       "version_minor": 0
      },
      "text/plain": [
       "  0%|          | 0/13233 [00:00<?, ?it/s]"
      ]
     },
     "metadata": {},
     "output_type": "display_data"
    },
    {
     "data": {
      "application/vnd.jupyter.widget-view+json": {
       "model_id": "73dfa2d061e84e12aa84e8b36414a317",
       "version_major": 2,
       "version_minor": 0
      },
      "text/plain": [
       "  0%|          | 0/13233 [00:00<?, ?it/s]"
      ]
     },
     "metadata": {},
     "output_type": "display_data"
    },
    {
     "name": "stdout",
     "output_type": "stream",
     "text": [
      "995205 995205\n",
      "Finding Optimal threshold...\n"
     ]
    },
    {
     "data": {
      "image/png": "[encoded data removed]",
      "text/plain": [
       "<Figure size 432x288 with 1 Axes>"
      ]
     },
     "metadata": {
      "needs_background": "light"
     },
     "output_type": "display_data"
    },
    {
     "name": "stdout",
     "output_type": "stream",
     "text": [
      "Best Threshold: 81.0707 with G-Mean: 0.8344\n",
      "FPR: 0.2053, TPR: 0.8762\n",
      "4 embeddings_seesaw_shareFaceNet_160\n",
      "Loading .npy files...\n"
     ]
    },
    {
     "data": {
      "application/vnd.jupyter.widget-view+json": {
       "model_id": "1a25ee61e59043398fa10277aca4c4d5",
       "version_major": 2,
       "version_minor": 0
      },
      "text/plain": [
       "  0%|          | 0/5749 [00:00<?, ?it/s]"
      ]
     },
     "metadata": {},
     "output_type": "display_data"
    },
    {
     "name": "stdout",
     "output_type": "stream",
     "text": [
      "Finding Euclidean Distances...\n"
     ]
    },
    {
     "data": {
      "application/vnd.jupyter.widget-view+json": {
       "model_id": "f49b200c07554a1ba5d709a1e5863463",
       "version_major": 2,
       "version_minor": 0
      },
      "text/plain": [
       "  0%|          | 0/13233 [00:00<?, ?it/s]"
      ]
     },
     "metadata": {},
     "output_type": "display_data"
    },
    {
     "data": {
      "application/vnd.jupyter.widget-view+json": {
       "model_id": "7b7138018bda4828a4a049f21e776927",
       "version_major": 2,
       "version_minor": 0
      },
      "text/plain": [
       "  0%|          | 0/13233 [00:00<?, ?it/s]"
      ]
     },
     "metadata": {},
     "output_type": "display_data"
    },
    {
     "name": "stdout",
     "output_type": "stream",
     "text": [
      "995205 995205\n",
      "Finding Optimal threshold...\n"
     ]
    },
    {
     "data": {
      "image/png": "[encoded data removed]",
      "text/plain": [
       "<Figure size 432x288 with 1 Axes>"
      ]
     },
     "metadata": {
      "needs_background": "light"
     },
     "output_type": "display_data"
    },
    {
     "name": "stdout",
     "output_type": "stream",
     "text": [
      "Best Threshold: 1.2663 with G-Mean: 0.8536\n",
      "FPR: 0.2109, TPR: 0.9235\n",
      "5 embeddings_seesaw_shuffleFaceNet_160\n",
      "Loading .npy files...\n"
     ]
    },
    {
     "data": {
      "application/vnd.jupyter.widget-view+json": {
       "model_id": "829dc2b7e53b44f9b768889a954c40f8",
       "version_major": 2,
       "version_minor": 0
      },
      "text/plain": [
       "  0%|          | 0/5749 [00:00<?, ?it/s]"
      ]
     },
     "metadata": {},
     "output_type": "display_data"
    },
    {
     "name": "stdout",
     "output_type": "stream",
     "text": [
      "Finding Euclidean Distances...\n"
     ]
    },
    {
     "data": {
      "application/vnd.jupyter.widget-view+json": {
       "model_id": "02466b43b8124ae99951f9aa043a29a8",
       "version_major": 2,
       "version_minor": 0
      },
      "text/plain": [
       "  0%|          | 0/13233 [00:00<?, ?it/s]"
      ]
     },
     "metadata": {},
     "output_type": "display_data"
    },
    {
     "data": {
      "application/vnd.jupyter.widget-view+json": {
       "model_id": "79a227bc52b7469c822a6b981da245f3",
       "version_major": 2,
       "version_minor": 0
      },
      "text/plain": [
       "  0%|          | 0/13233 [00:00<?, ?it/s]"
      ]
     },
     "metadata": {},
     "output_type": "display_data"
    },
    {
     "name": "stdout",
     "output_type": "stream",
     "text": [
      "995205 995205\n",
      "Finding Optimal threshold...\n"
     ]
    },
    {
     "data": {
      "image/png": "[encoded data removed]",
      "text/plain": [
       "<Figure size 432x288 with 1 Axes>"
      ]
     },
     "metadata": {
      "needs_background": "light"
     },
     "output_type": "display_data"
    },
    {
     "name": "stdout",
     "output_type": "stream",
     "text": [
      "Best Threshold: 1.2589 with G-Mean: 0.869\n",
      "FPR: 0.1999, TPR: 0.9438\n",
      "6 embeddings_seesaw_shuffleFaceNet_192\n",
      "Loading .npy files...\n"
     ]
    },
    {
     "data": {
      "application/vnd.jupyter.widget-view+json": {
       "model_id": "eea3e2d5976b48baa5cdbc13dc22df74",
       "version_major": 2,
       "version_minor": 0
      },
      "text/plain": [
       "  0%|          | 0/5749 [00:00<?, ?it/s]"
      ]
     },
     "metadata": {},
     "output_type": "display_data"
    },
    {
     "name": "stdout",
     "output_type": "stream",
     "text": [
      "Finding Euclidean Distances...\n"
     ]
    },
    {
     "data": {
      "application/vnd.jupyter.widget-view+json": {
       "model_id": "ab544e08f1f3496f9bc663740c8361ed",
       "version_major": 2,
       "version_minor": 0
      },
      "text/plain": [
       "  0%|          | 0/13233 [00:00<?, ?it/s]"
      ]
     },
     "metadata": {},
     "output_type": "display_data"
    },
    {
     "data": {
      "application/vnd.jupyter.widget-view+json": {
       "model_id": "01220f17b4ba43d4939fabb05b98eba3",
       "version_major": 2,
       "version_minor": 0
      },
      "text/plain": [
       "  0%|          | 0/13233 [00:00<?, ?it/s]"
      ]
     },
     "metadata": {},
     "output_type": "display_data"
    },
    {
     "name": "stdout",
     "output_type": "stream",
     "text": [
      "995205 995205\n",
      "Finding Optimal threshold...\n"
     ]
    },
    {
     "data": {
      "image/png": "[encoded data removed]",
      "text/plain": [
       "<Figure size 432x288 with 1 Axes>"
      ]
     },
     "metadata": {
      "needs_background": "light"
     },
     "output_type": "display_data"
    },
    {
     "name": "stdout",
     "output_type": "stream",
     "text": [
      "Best Threshold: 1.2728 with G-Mean: 0.8756\n",
      "FPR: 0.1859, TPR: 0.9417\n"
     ]
    }
   ],
   "source": [
    "for i, name in enumerate(embeds_names):\n",
    "    print(i+1, name)\n",
    "    model_result(name)"
   ]
  },
  {
   "cell_type": "code",
   "execution_count": 5,
   "metadata": {},
   "outputs": [],
   "source": [
    "# _dist_arr = [i.detach().cpu().tolist() for i in dist]\n",
    "# _label_arr = [i.detach().cpu().tolist() for i in target]\n",
    "\n",
    "# dist_arr = []\n",
    "# label_arr = []\n",
    "\n",
    "# for i,j in tqdm(zip(dist, target), total=len(dist)):\n",
    "#     dist_arr.extend(i.detach().cpu().tolist())\n",
    "#     label_arr.extend([ 0 if i is False else 1 for i in j.detach().cpu().tolist()])"
   ]
  },
  {
   "cell_type": "code",
   "execution_count": 6,
   "metadata": {},
   "outputs": [],
   "source": [
    "# postive_dist = [] # same face\n",
    "# negative_dist = [] # different face\n",
    "\n",
    "# for i,j in tqdm(zip(dist_arr, label_arr), total = len(dist_arr)):\n",
    "#     if j is 1:\n",
    "#         postive_dist.append(i)\n",
    "\n",
    "#     else:\n",
    "#         negative_dist.append(i)"
   ]
  },
  {
   "cell_type": "code",
   "execution_count": 7,
   "metadata": {},
   "outputs": [],
   "source": [
    "# max_, min_ = max(dist_arr), min(dist_arr)\n",
    "\n",
    "# max_, min_\n",
    "# # max(negative_dist), min(negative_dist), max(postive_dist), min(postive_dist)"
   ]
  },
  {
   "cell_type": "code",
   "execution_count": 8,
   "metadata": {},
   "outputs": [],
   "source": [
    "# from sklearn import metrics\n",
    "# fpr, tpr, thresholds = metrics.roc_curve(label_arr, dist_arr, pos_label=1)\n",
    "# import matplotlib.pyplot as plt\n",
    "\n",
    "# plt.plot(fpr, tpr)\n",
    "# plt.title(\"ROC curve\")\n",
    "# plt.xlabel(\"False Positive\")\n",
    "# plt.ylabel(\"True Positive\")\n",
    "# plt.show()\n",
    "\n",
    "# gmean = np.sqrt(tpr * (1 - fpr))\n",
    "\n",
    "# # Find the optimal threshold\n",
    "# index = np.argmax(gmean)\n",
    "# thresholdOpt = round(thresholds[index], ndigits = 4)\n",
    "# gmeanOpt = round(gmean[index], ndigits = 4)\n",
    "# fprOpt = round(fpr[index], ndigits = 4)\n",
    "# tprOpt = round(tpr[index], ndigits = 4)\n",
    "\n",
    "# print('Best Threshold: {} with G-Mean: {}'.format(thresholdOpt, gmeanOpt))\n",
    "# print('FPR: {}, TPR: {}'.format(fprOpt, tprOpt))"
   ]
  },
  {
   "cell_type": "code",
   "execution_count": null,
   "metadata": {},
   "outputs": [],
   "source": []
  }
 ],
 "metadata": {
  "kernelspec": {
   "display_name": "Python 3.7.13 ('base')",
   "language": "python",
   "name": "python3"
  },
  "language_info": {
   "codemirror_mode": {
    "name": "ipython",
    "version": 3
   },
   "file_extension": ".py",
   "mimetype": "text/x-python",
   "name": "python",
   "nbconvert_exporter": "python",
   "pygments_lexer": "ipython3",
   "version": "3.7.13"
  },
  "orig_nbformat": 4,
  "vscode": {
   "interpreter": {
    "hash": "aac6a9f6e038666d9c19347a5caa7968d43d22ebc276d6ab3e43c5d06786ff02"
   }
  }
 },
 "nbformat": 4,
 "nbformat_minor": 2
}
